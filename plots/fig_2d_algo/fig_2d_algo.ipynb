{
 "cells": [
  {
   "cell_type": "code",
   "execution_count": 1,
   "metadata": {},
   "outputs": [
    {
     "name": "stdout",
     "output_type": "stream",
     "text": [
      "/home/jovyan/project/MirrorDescent-DFT/figures/fig_2d_algo\n",
      "/home/jovyan/project/MirrorDescent-DFT\n"
     ]
    },
    {
     "name": "stderr",
     "output_type": "stream",
     "text": [
      "/home/jovyan/project/envs/jax/lib/python3.10/site-packages/tqdm/auto.py:21: TqdmWarning: IProgress not found. Please update jupyter and ipywidgets. See https://ipywidgets.readthedocs.io/en/stable/user_install.html\n",
      "  from .autonotebook import tqdm as notebook_tqdm\n",
      "None of PyTorch, TensorFlow >= 2.0, or Flax have been found. Models won't be available and only tokenizers, configuration and file/data utilities can be used.\n"
     ]
    }
   ],
   "source": [
    "import os \n",
    "import sys \n",
    "\n",
    "print(os.getcwd()) # print the current working directory\n",
    "sys.path.append(os.path.join(os.getcwd(), '..','..')) # add the root directory to the path\n",
    "os.chdir(\"../..\")\n",
    "print(os.getcwd())\n",
    "from src.models import *\n",
    "from src.plots.plotter import *\n",
    "import subprocess\n"
   ]
  },
  {
   "cell_type": "code",
   "execution_count": null,
   "metadata": {},
   "outputs": [
    {
     "name": "stdout",
     "output_type": "stream",
     "text": [
      "20250310-004521\n",
      "outputs/2D-cases/D2_N51_L10_b100_a5_mu0/SMD_c1Ns20Np20/20250310-004521\n"
     ]
    },
    {
     "name": "stderr",
     "output_type": "stream",
     "text": [
      "None of PyTorch, TensorFlow >= 2.0, or Flax have been found. Models won't be available and only tokenizers, configuration and file/data utilities can be used.\n"
     ]
    },
    {
     "name": "stdout",
     "output_type": "stream",
     "text": [
      "Loading data...\n",
      "Plotting...\n",
      "stamp: 20250310-004521 Dim: 2 N: 51 L: 10.0 beta: 10.0 alpha: 0.5 mu: 0.0 ratio: 1.0 N_samples: 20 N_poles: 20 lr: 1.0 max_iter: 5000\n"
     ]
    },
    {
     "name": "stderr",
     "output_type": "stream",
     "text": [
      "/home/jovyan/project/MirrorDescent-DFT/src/plots/plot_2D.py:144: UserWarning: This figure includes Axes that are not compatible with tight_layout, so results might be incorrect.\n",
      "  plt.tight_layout()\n"
     ]
    },
    {
     "name": "stdout",
     "output_type": "stream",
     "text": [
      "Saved to ./figures/fig_2d_algo/2D_limit_N51L10.png\n",
      "Saved to ./figures/fig_2d_algo/2D_limit_N51L10.pdf\n",
      "20250310-004641\n",
      "outputs/2D-cases/D2_N101_L10_b100_a5_mu0/SMD_c1Ns20Np20/20250310-004641\n"
     ]
    },
    {
     "name": "stderr",
     "output_type": "stream",
     "text": [
      "None of PyTorch, TensorFlow >= 2.0, or Flax have been found. Models won't be available and only tokenizers, configuration and file/data utilities can be used.\n"
     ]
    },
    {
     "name": "stdout",
     "output_type": "stream",
     "text": [
      "Loading data...\n",
      "Plotting...\n",
      "stamp: 20250310-004641 Dim: 2 N: 101 L: 10.0 beta: 10.0 alpha: 0.5 mu: 0.0 ratio: 1.0 N_samples: 20 N_poles: 20 lr: 1.0 max_iter: 5000\n"
     ]
    },
    {
     "name": "stderr",
     "output_type": "stream",
     "text": [
      "/home/jovyan/project/MirrorDescent-DFT/src/plots/plot_2D.py:144: UserWarning: This figure includes Axes that are not compatible with tight_layout, so results might be incorrect.\n",
      "  plt.tight_layout()\n"
     ]
    },
    {
     "name": "stdout",
     "output_type": "stream",
     "text": [
      "Saved to ./figures/fig_2d_algo/2D_limit_N101L10.png\n",
      "Saved to ./figures/fig_2d_algo/2D_limit_N101L10.pdf\n",
      "20250310-004701\n",
      "outputs/2D-cases/D2_N101_L100_b100_a5_mu0/SMD_c1Ns20Np20/20250310-004701\n"
     ]
    },
    {
     "name": "stderr",
     "output_type": "stream",
     "text": [
      "None of PyTorch, TensorFlow >= 2.0, or Flax have been found. Models won't be available and only tokenizers, configuration and file/data utilities can be used.\n"
     ]
    },
    {
     "name": "stdout",
     "output_type": "stream",
     "text": [
      "Loading data...\n",
      "Plotting...\n",
      "stamp: 20250310-004701 Dim: 2 N: 101 L: 100.0 beta: 10.0 alpha: 0.5 mu: 0.0 ratio: 1.0 N_samples: 20 N_poles: 20 lr: 1.0 max_iter: 5000\n"
     ]
    },
    {
     "name": "stderr",
     "output_type": "stream",
     "text": [
      "/home/jovyan/project/MirrorDescent-DFT/src/plots/plot_2D.py:144: UserWarning: This figure includes Axes that are not compatible with tight_layout, so results might be incorrect.\n",
      "  plt.tight_layout()\n"
     ]
    },
    {
     "name": "stdout",
     "output_type": "stream",
     "text": [
      "Saved to ./figures/fig_2d_algo/2D_limit_N101L100.png\n",
      "Saved to ./figures/fig_2d_algo/2D_limit_N101L100.pdf\n",
      "20250311-044857\n",
      "outputs/2D-cases/D2_N101_L100_b5_a5_mu0/SMD_c1Ns20Np20/20250311-044857\n"
     ]
    },
    {
     "name": "stderr",
     "output_type": "stream",
     "text": [
      "None of PyTorch, TensorFlow >= 2.0, or Flax have been found. Models won't be available and only tokenizers, configuration and file/data utilities can be used.\n"
     ]
    },
    {
     "name": "stdout",
     "output_type": "stream",
     "text": [
      "Loading data...\n",
      "Plotting...\n",
      "stamp: 20250311-044857 Dim: 2 N: 101 L: 100.0 beta: 0.5 alpha: 0.5 mu: 0.0 ratio: 1.0 N_samples: 20 N_poles: 20 lr: 0.5 max_iter: 5000\n"
     ]
    },
    {
     "name": "stderr",
     "output_type": "stream",
     "text": [
      "/home/jovyan/project/MirrorDescent-DFT/src/plots/plot_2D.py:144: UserWarning: This figure includes Axes that are not compatible with tight_layout, so results might be incorrect.\n",
      "  plt.tight_layout()\n"
     ]
    },
    {
     "name": "stdout",
     "output_type": "stream",
     "text": [
      "Saved to ./figures/fig_2d_algo/2D_beta5.png\n",
      "Saved to ./figures/fig_2d_algo/2D_beta5.pdf\n",
      "20250310-175802\n",
      "outputs/2D-cases/D2_N101_L100_b20_a5_mu0/SMD_c1Ns20Np20/20250310-175802\n"
     ]
    },
    {
     "name": "stderr",
     "output_type": "stream",
     "text": [
      "None of PyTorch, TensorFlow >= 2.0, or Flax have been found. Models won't be available and only tokenizers, configuration and file/data utilities can be used.\n"
     ]
    },
    {
     "name": "stdout",
     "output_type": "stream",
     "text": [
      "Loading data...\n",
      "Plotting...\n",
      "stamp: 20250310-175802 Dim: 2 N: 101 L: 100.0 beta: 2.0 alpha: 0.5 mu: 0.0 ratio: 1.0 N_samples: 20 N_poles: 20 lr: 1.0 max_iter: 5000\n"
     ]
    },
    {
     "name": "stderr",
     "output_type": "stream",
     "text": [
      "/home/jovyan/project/MirrorDescent-DFT/src/plots/plot_2D.py:144: UserWarning: This figure includes Axes that are not compatible with tight_layout, so results might be incorrect.\n",
      "  plt.tight_layout()\n"
     ]
    },
    {
     "name": "stdout",
     "output_type": "stream",
     "text": [
      "Saved to ./figures/fig_2d_algo/2D_beta20.png\n",
      "Saved to ./figures/fig_2d_algo/2D_beta20.pdf\n",
      "20250310-180043\n",
      "outputs/2D-cases/D2_N101_L100_b400_a5_mu0/SMD_c1Ns20Np20/20250310-180043\n"
     ]
    },
    {
     "name": "stderr",
     "output_type": "stream",
     "text": [
      "None of PyTorch, TensorFlow >= 2.0, or Flax have been found. Models won't be available and only tokenizers, configuration and file/data utilities can be used.\n"
     ]
    },
    {
     "name": "stdout",
     "output_type": "stream",
     "text": [
      "Loading data...\n",
      "Plotting...\n",
      "stamp: 20250310-180043 Dim: 2 N: 101 L: 100.0 beta: 40.0 alpha: 0.5 mu: 0.0 ratio: 1.0 N_samples: 20 N_poles: 20 lr: 1.0 max_iter: 5000\n"
     ]
    },
    {
     "name": "stderr",
     "output_type": "stream",
     "text": [
      "/home/jovyan/project/MirrorDescent-DFT/src/plots/plot_2D.py:144: UserWarning: This figure includes Axes that are not compatible with tight_layout, so results might be incorrect.\n",
      "  plt.tight_layout()\n"
     ]
    },
    {
     "name": "stdout",
     "output_type": "stream",
     "text": [
      "Saved to ./figures/fig_2d_algo/2D_beta400.png\n",
      "Saved to ./figures/fig_2d_algo/2D_beta400.pdf\n"
     ]
    },
    {
     "ename": "",
     "evalue": "",
     "output_type": "error",
     "traceback": [
      "\u001b[1;31mThe Kernel crashed while executing code in the current cell or a previous cell. \n",
      "\u001b[1;31mPlease review the code in the cell(s) to identify a possible cause of the failure. \n",
      "\u001b[1;31mClick <a href='https://aka.ms/vscodeJupyterKernelCrash'>here</a> for more info. \n",
      "\u001b[1;31mView Jupyter <a href='command:jupyter.viewOutput'>log</a> for further details."
     ]
    }
   ],
   "source": [
    "timestamps = [\n",
    "    \"20250310-004521\",\n",
    "    \"20250310-004641\",\n",
    "    \"20250310-004701\",\n",
    "    \"20250311-044857\",\n",
    "    \"20250310-175802\",\n",
    "    \"20250310-180043\",\n",
    "]\n",
    "save_path = \"./figures/fig_2d_algo\"\n",
    "file_names = [\n",
    "    \"2D_limit_N51L10\",\n",
    "    \"2D_limit_N101L10\", \n",
    "    \"2D_limit_N101L100\",\n",
    "    \"2D_beta5\",\n",
    "    \"2D_beta20\",\n",
    "    \"2D_beta400\",\n",
    "]\n",
    "title = False\n",
    "\n",
    "def find_stamp_folder(stamp, base_dir='./outputs'):\n",
    "    for root, dirs, files in os.walk(base_dir):\n",
    "        if stamp in os.path.basename(root):\n",
    "            return os.path.relpath(root, start=os.getcwd())\n",
    "    return None\n",
    "\n",
    "for i in range(len(timestamps)):\n",
    "    timestamp = timestamps[i]\n",
    "    file_name = file_names[i]\n",
    "    print(timestamp)\n",
    "    print(find_stamp_folder(timestamp))\n",
    "    command = f\"python -m src.plots.plot_2D --stamp={timestamp} --file_name={file_name} --save_path={save_path} --title={title}\"\n",
    "    subprocess.run(command, shell=True)\n"
   ]
  }
 ],
 "metadata": {
  "kernelspec": {
   "display_name": "jax",
   "language": "python",
   "name": "python3"
  },
  "language_info": {
   "codemirror_mode": {
    "name": "ipython",
    "version": 3
   },
   "file_extension": ".py",
   "mimetype": "text/x-python",
   "name": "python",
   "nbconvert_exporter": "python",
   "pygments_lexer": "ipython3",
   "version": "3.10.16"
  }
 },
 "nbformat": 4,
 "nbformat_minor": 2
}
